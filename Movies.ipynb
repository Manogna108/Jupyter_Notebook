{
 "cells": [
  {
   "cell_type": "markdown",
   "metadata": {
    "colab_type": "text",
    "id": "fVS1AK7xUbtZ"
   },
   "source": []
  },
  {
   "cell_type": "code",
   "execution_count": 187,
   "metadata": {
    "colab": {
     "base_uri": "https://localhost:8080/",
     "height": 794
    },
    "colab_type": "code",
    "executionInfo": {
     "elapsed": 7361,
     "status": "ok",
     "timestamp": 1572925206616,
     "user": {
      "displayName": "Milan Butani",
      "photoUrl": "",
      "userId": "12581065414714372216"
     },
     "user_tz": 480
    },
    "id": "1hafAYveUbti",
    "outputId": "10b71b77-2530-4031-d5ae-362022ceb36d",
    "scrolled": true
   },
   "outputs": [
    {
     "name": "stdout",
     "output_type": "stream",
     "text": [
      "Requirement already satisfied: datascience in /Users/rama/opt/anaconda3/lib/python3.7/site-packages (0.15.3)\n",
      "Requirement already satisfied: scipy in /Users/rama/opt/anaconda3/lib/python3.7/site-packages (from datascience) (1.3.1)\n",
      "Requirement already satisfied: bokeh in /Users/rama/opt/anaconda3/lib/python3.7/site-packages (from datascience) (1.3.4)\n",
      "Requirement already satisfied: setuptools in /Users/rama/opt/anaconda3/lib/python3.7/site-packages (from datascience) (41.4.0)\n",
      "Requirement already satisfied: coveralls in /Users/rama/opt/anaconda3/lib/python3.7/site-packages (from datascience) (1.10.0)\n",
      "Requirement already satisfied: pytest in /Users/rama/opt/anaconda3/lib/python3.7/site-packages (from datascience) (5.2.1)\n",
      "Requirement already satisfied: coverage==4.5.3 in /Users/rama/opt/anaconda3/lib/python3.7/site-packages (from datascience) (4.5.3)\n",
      "Requirement already satisfied: folium>=0.9.1 in /Users/rama/opt/anaconda3/lib/python3.7/site-packages (from datascience) (0.10.1)\n",
      "Requirement already satisfied: ipython in /Users/rama/opt/anaconda3/lib/python3.7/site-packages (from datascience) (7.8.0)\n",
      "Requirement already satisfied: sphinx in /Users/rama/opt/anaconda3/lib/python3.7/site-packages (from datascience) (2.2.0)\n",
      "Requirement already satisfied: matplotlib>=3.0.0 in /Users/rama/opt/anaconda3/lib/python3.7/site-packages (from datascience) (3.1.1)\n",
      "Requirement already satisfied: pandas in /Users/rama/opt/anaconda3/lib/python3.7/site-packages (from datascience) (0.25.1)\n",
      "Requirement already satisfied: numpy in /Users/rama/opt/anaconda3/lib/python3.7/site-packages (from datascience) (1.17.2)\n",
      "Requirement already satisfied: pillow>=4.0 in /Users/rama/opt/anaconda3/lib/python3.7/site-packages (from bokeh->datascience) (6.2.0)\n",
      "Requirement already satisfied: PyYAML>=3.10 in /Users/rama/opt/anaconda3/lib/python3.7/site-packages (from bokeh->datascience) (5.1.2)\n",
      "Requirement already satisfied: tornado>=4.3 in /Users/rama/opt/anaconda3/lib/python3.7/site-packages (from bokeh->datascience) (6.0.3)\n",
      "Requirement already satisfied: packaging>=16.8 in /Users/rama/opt/anaconda3/lib/python3.7/site-packages (from bokeh->datascience) (19.2)\n",
      "Requirement already satisfied: python-dateutil>=2.1 in /Users/rama/opt/anaconda3/lib/python3.7/site-packages (from bokeh->datascience) (2.8.0)\n",
      "Requirement already satisfied: six>=1.5.2 in /Users/rama/opt/anaconda3/lib/python3.7/site-packages (from bokeh->datascience) (1.12.0)\n",
      "Requirement already satisfied: Jinja2>=2.7 in /Users/rama/opt/anaconda3/lib/python3.7/site-packages (from bokeh->datascience) (2.10.3)\n",
      "Requirement already satisfied: docopt>=0.6.1 in /Users/rama/opt/anaconda3/lib/python3.7/site-packages (from coveralls->datascience) (0.6.2)\n",
      "Requirement already satisfied: requests>=1.0.0 in /Users/rama/opt/anaconda3/lib/python3.7/site-packages (from coveralls->datascience) (2.22.0)\n",
      "Requirement already satisfied: py>=1.5.0 in /Users/rama/opt/anaconda3/lib/python3.7/site-packages (from pytest->datascience) (1.8.0)\n",
      "Requirement already satisfied: attrs>=17.4.0 in /Users/rama/opt/anaconda3/lib/python3.7/site-packages (from pytest->datascience) (19.2.0)\n",
      "Requirement already satisfied: more-itertools>=4.0.0 in /Users/rama/opt/anaconda3/lib/python3.7/site-packages (from pytest->datascience) (7.2.0)\n",
      "Requirement already satisfied: atomicwrites>=1.0 in /Users/rama/opt/anaconda3/lib/python3.7/site-packages (from pytest->datascience) (1.3.0)\n",
      "Requirement already satisfied: pluggy<1.0,>=0.12 in /Users/rama/opt/anaconda3/lib/python3.7/site-packages (from pytest->datascience) (0.13.0)\n",
      "Requirement already satisfied: wcwidth in /Users/rama/opt/anaconda3/lib/python3.7/site-packages (from pytest->datascience) (0.1.7)\n",
      "Requirement already satisfied: importlib-metadata>=0.12 in /Users/rama/opt/anaconda3/lib/python3.7/site-packages (from pytest->datascience) (0.23)\n",
      "Requirement already satisfied: branca>=0.3.0 in /Users/rama/opt/anaconda3/lib/python3.7/site-packages (from folium>=0.9.1->datascience) (0.3.1)\n",
      "Requirement already satisfied: prompt-toolkit<2.1.0,>=2.0.0 in /Users/rama/opt/anaconda3/lib/python3.7/site-packages (from ipython->datascience) (2.0.10)\n",
      "Requirement already satisfied: jedi>=0.10 in /Users/rama/opt/anaconda3/lib/python3.7/site-packages (from ipython->datascience) (0.15.1)\n",
      "Requirement already satisfied: appnope; sys_platform == \"darwin\" in /Users/rama/opt/anaconda3/lib/python3.7/site-packages (from ipython->datascience) (0.1.0)\n",
      "Requirement already satisfied: pygments in /Users/rama/opt/anaconda3/lib/python3.7/site-packages (from ipython->datascience) (2.4.2)\n",
      "Requirement already satisfied: pexpect; sys_platform != \"win32\" in /Users/rama/opt/anaconda3/lib/python3.7/site-packages (from ipython->datascience) (4.7.0)\n",
      "Requirement already satisfied: backcall in /Users/rama/opt/anaconda3/lib/python3.7/site-packages (from ipython->datascience) (0.1.0)\n",
      "Requirement already satisfied: decorator in /Users/rama/opt/anaconda3/lib/python3.7/site-packages (from ipython->datascience) (4.4.0)\n",
      "Requirement already satisfied: pickleshare in /Users/rama/opt/anaconda3/lib/python3.7/site-packages (from ipython->datascience) (0.7.5)\n",
      "Requirement already satisfied: traitlets>=4.2 in /Users/rama/opt/anaconda3/lib/python3.7/site-packages (from ipython->datascience) (4.3.3)\n",
      "Requirement already satisfied: sphinxcontrib-applehelp in /Users/rama/opt/anaconda3/lib/python3.7/site-packages (from sphinx->datascience) (1.0.1)\n",
      "Requirement already satisfied: snowballstemmer>=1.1 in /Users/rama/opt/anaconda3/lib/python3.7/site-packages (from sphinx->datascience) (2.0.0)\n",
      "Requirement already satisfied: imagesize in /Users/rama/opt/anaconda3/lib/python3.7/site-packages (from sphinx->datascience) (1.1.0)\n",
      "Requirement already satisfied: sphinxcontrib-serializinghtml in /Users/rama/opt/anaconda3/lib/python3.7/site-packages (from sphinx->datascience) (1.1.3)\n",
      "Requirement already satisfied: sphinxcontrib-devhelp in /Users/rama/opt/anaconda3/lib/python3.7/site-packages (from sphinx->datascience) (1.0.1)\n",
      "Requirement already satisfied: sphinxcontrib-qthelp in /Users/rama/opt/anaconda3/lib/python3.7/site-packages (from sphinx->datascience) (1.0.2)\n",
      "Requirement already satisfied: sphinxcontrib-htmlhelp in /Users/rama/opt/anaconda3/lib/python3.7/site-packages (from sphinx->datascience) (1.0.2)\n",
      "Requirement already satisfied: docutils>=0.12 in /Users/rama/opt/anaconda3/lib/python3.7/site-packages (from sphinx->datascience) (0.15.2)\n",
      "Requirement already satisfied: alabaster<0.8,>=0.7 in /Users/rama/opt/anaconda3/lib/python3.7/site-packages (from sphinx->datascience) (0.7.12)\n",
      "Requirement already satisfied: sphinxcontrib-jsmath in /Users/rama/opt/anaconda3/lib/python3.7/site-packages (from sphinx->datascience) (1.0.1)\n",
      "Requirement already satisfied: babel!=2.0,>=1.3 in /Users/rama/opt/anaconda3/lib/python3.7/site-packages (from sphinx->datascience) (2.7.0)\n",
      "Requirement already satisfied: cycler>=0.10 in /Users/rama/opt/anaconda3/lib/python3.7/site-packages (from matplotlib>=3.0.0->datascience) (0.10.0)\n",
      "Requirement already satisfied: kiwisolver>=1.0.1 in /Users/rama/opt/anaconda3/lib/python3.7/site-packages (from matplotlib>=3.0.0->datascience) (1.1.0)\n",
      "Requirement already satisfied: pyparsing!=2.0.4,!=2.1.2,!=2.1.6,>=2.0.1 in /Users/rama/opt/anaconda3/lib/python3.7/site-packages (from matplotlib>=3.0.0->datascience) (2.4.2)\n",
      "Requirement already satisfied: pytz>=2017.2 in /Users/rama/opt/anaconda3/lib/python3.7/site-packages (from pandas->datascience) (2019.3)\n",
      "Requirement already satisfied: MarkupSafe>=0.23 in /Users/rama/opt/anaconda3/lib/python3.7/site-packages (from Jinja2>=2.7->bokeh->datascience) (1.1.1)\n",
      "Requirement already satisfied: urllib3!=1.25.0,!=1.25.1,<1.26,>=1.21.1 in /Users/rama/opt/anaconda3/lib/python3.7/site-packages (from requests>=1.0.0->coveralls->datascience) (1.24.2)\n",
      "Requirement already satisfied: idna<2.9,>=2.5 in /Users/rama/opt/anaconda3/lib/python3.7/site-packages (from requests>=1.0.0->coveralls->datascience) (2.8)\n",
      "Requirement already satisfied: chardet<3.1.0,>=3.0.2 in /Users/rama/opt/anaconda3/lib/python3.7/site-packages (from requests>=1.0.0->coveralls->datascience) (3.0.4)\n",
      "Requirement already satisfied: certifi>=2017.4.17 in /Users/rama/opt/anaconda3/lib/python3.7/site-packages (from requests>=1.0.0->coveralls->datascience) (2019.9.11)\n",
      "Requirement already satisfied: zipp>=0.5 in /Users/rama/opt/anaconda3/lib/python3.7/site-packages (from importlib-metadata>=0.12->pytest->datascience) (0.6.0)\n",
      "Requirement already satisfied: parso>=0.5.0 in /Users/rama/opt/anaconda3/lib/python3.7/site-packages (from jedi>=0.10->ipython->datascience) (0.5.1)\n",
      "Requirement already satisfied: ptyprocess>=0.5 in /Users/rama/opt/anaconda3/lib/python3.7/site-packages (from pexpect; sys_platform != \"win32\"->ipython->datascience) (0.6.0)\r\n",
      "Requirement already satisfied: ipython-genutils in /Users/rama/opt/anaconda3/lib/python3.7/site-packages (from traitlets>=4.2->ipython->datascience) (0.2.0)\r\n"
     ]
    }
   ],
   "source": [
    "\n",
    "!pip install datascience\n",
    "import numpy as np\n",
    "import math\n",
    "from datascience import *\n",
    "from math import *\n",
    "%matplotlib inline\n",
    "import matplotlib.pyplot as plt\n",
    "import collections\n",
    "from collections import Counter \n",
    "\n"
   ]
  },
  {
   "cell_type": "markdown",
   "metadata": {
    "colab_type": "text",
    "id": "E-sgjnpgUbto"
   },
   "source": [
    "Scatter Plots"
   ]
  },
  {
   "cell_type": "code",
   "execution_count": 3,
   "metadata": {
    "colab": {
     "base_uri": "https://localhost:8080/",
     "height": 375
    },
    "colab_type": "code",
    "executionInfo": {
     "elapsed": 7353,
     "status": "error",
     "timestamp": 1572925206620,
     "user": {
      "displayName": "Milan Butani",
      "photoUrl": "",
      "userId": "12581065414714372216"
     },
     "user_tz": 480
    },
    "id": "OLsa5fMnUbtq",
    "outputId": "013f544c-f0b8-45ff-d432-1e6f319fe683"
   },
   "outputs": [],
   "source": [
    "actors = Table.read_table('actors.csv')"
   ]
  },
  {
   "cell_type": "code",
   "execution_count": 5,
   "metadata": {
    "colab": {},
    "colab_type": "code",
    "id": "8PDQzUa-Ubtu"
   },
   "outputs": [
    {
     "data": {
      "text/html": [
       "<table border=\"1\" class=\"dataframe\">\n",
       "    <thead>\n",
       "        <tr>\n",
       "            <th>Actor</th> <th>Total Gross</th> <th>Number of Movies</th> <th>Average per Movie</th> <th>#1 Movie</th> <th>Gross</th>\n",
       "        </tr>\n",
       "    </thead>\n",
       "    <tbody>\n",
       "        <tr>\n",
       "            <td>Harrison Ford     </td> <td>4871.7     </td> <td>41              </td> <td>118.8            </td> <td>Star Wars: The Force Awakens</td> <td>936.7</td>\n",
       "        </tr>\n",
       "        <tr>\n",
       "            <td>Samuel L. Jackson </td> <td>4772.8     </td> <td>69              </td> <td>69.2             </td> <td>The Avengers                </td> <td>623.4</td>\n",
       "        </tr>\n",
       "        <tr>\n",
       "            <td>Morgan Freeman    </td> <td>4468.3     </td> <td>61              </td> <td>73.3             </td> <td>The Dark Knight             </td> <td>534.9</td>\n",
       "        </tr>\n",
       "        <tr>\n",
       "            <td>Tom Hanks         </td> <td>4340.8     </td> <td>44              </td> <td>98.7             </td> <td>Toy Story 3                 </td> <td>415  </td>\n",
       "        </tr>\n",
       "        <tr>\n",
       "            <td>Robert Downey, Jr.</td> <td>3947.3     </td> <td>53              </td> <td>74.5             </td> <td>The Avengers                </td> <td>623.4</td>\n",
       "        </tr>\n",
       "        <tr>\n",
       "            <td>Eddie Murphy      </td> <td>3810.4     </td> <td>38              </td> <td>100.3            </td> <td>Shrek 2                     </td> <td>441.2</td>\n",
       "        </tr>\n",
       "        <tr>\n",
       "            <td>Tom Cruise        </td> <td>3587.2     </td> <td>36              </td> <td>99.6             </td> <td>War of the Worlds           </td> <td>234.3</td>\n",
       "        </tr>\n",
       "        <tr>\n",
       "            <td>Johnny Depp       </td> <td>3368.6     </td> <td>45              </td> <td>74.9             </td> <td>Dead Man's Chest            </td> <td>423.3</td>\n",
       "        </tr>\n",
       "        <tr>\n",
       "            <td>Michael Caine     </td> <td>3351.5     </td> <td>58              </td> <td>57.8             </td> <td>The Dark Knight             </td> <td>534.9</td>\n",
       "        </tr>\n",
       "        <tr>\n",
       "            <td>Scarlett Johansson</td> <td>3341.2     </td> <td>37              </td> <td>90.3             </td> <td>The Avengers                </td> <td>623.4</td>\n",
       "        </tr>\n",
       "    </tbody>\n",
       "</table>\n",
       "<p>... (40 rows omitted)</p>"
      ],
      "text/plain": [
       "Actor              | Total Gross | Number of Movies | Average per Movie | #1 Movie                     | Gross\n",
       "Harrison Ford      | 4871.7      | 41               | 118.8             | Star Wars: The Force Awakens | 936.7\n",
       "Samuel L. Jackson  | 4772.8      | 69               | 69.2              | The Avengers                 | 623.4\n",
       "Morgan Freeman     | 4468.3      | 61               | 73.3              | The Dark Knight              | 534.9\n",
       "Tom Hanks          | 4340.8      | 44               | 98.7              | Toy Story 3                  | 415\n",
       "Robert Downey, Jr. | 3947.3      | 53               | 74.5              | The Avengers                 | 623.4\n",
       "Eddie Murphy       | 3810.4      | 38               | 100.3             | Shrek 2                      | 441.2\n",
       "Tom Cruise         | 3587.2      | 36               | 99.6              | War of the Worlds            | 234.3\n",
       "Johnny Depp        | 3368.6      | 45               | 74.9              | Dead Man's Chest             | 423.3\n",
       "Michael Caine      | 3351.5      | 58               | 57.8              | The Dark Knight              | 534.9\n",
       "Scarlett Johansson | 3341.2      | 37               | 90.3              | The Avengers                 | 623.4\n",
       "... (40 rows omitted)"
      ]
     },
     "execution_count": 5,
     "metadata": {},
     "output_type": "execute_result"
    }
   ],
   "source": [
    "actors\n",
    "#prints everything in the csv file"
   ]
  },
  {
   "cell_type": "code",
   "execution_count": 21,
   "metadata": {
    "colab": {},
    "colab_type": "code",
    "id": "tUCJoZdOUbtz"
   },
   "outputs": [
    {
     "data": {
      "image/png": "[encoded data removed]",
      "text/plain": [
       "<Figure size 360x360 with 1 Axes>"
      ]
     },
     "metadata": {
      "needs_background": "light"
     },
     "output_type": "display_data"
    }
   ],
   "source": [
    "actors.scatter( \"Number of Movies\", \"Total Gross\")\n",
    "# scatter plot based on actors' number of movies and total gross profits"
   ]
  },
  {
   "cell_type": "code",
   "execution_count": 22,
   "metadata": {
    "colab": {},
    "colab_type": "code",
    "id": "9wYT8M-YUbt3"
   },
   "outputs": [
    {
     "data": {
      "image/png": "[encoded data removed]",
      "text/plain": [
       "<Figure size 360x360 with 1 Axes>"
      ]
     },
     "metadata": {
      "needs_background": "light"
     },
     "output_type": "display_data"
    }
   ],
   "source": [
    "actors.scatter( \"Number of Movies\", \"Average per Movie\")\n",
    "# scatter plot based on actors' number of movies and the average profit of their movies"
   ]
  },
  {
   "cell_type": "code",
   "execution_count": 48,
   "metadata": {
    "colab": {},
    "colab_type": "code",
    "id": "GdnweGYPUbt8"
   },
   "outputs": [
    {
     "data": {
      "text/html": [
       "<table border=\"1\" class=\"dataframe\">\n",
       "    <thead>\n",
       "        <tr>\n",
       "            <th>Actor</th> <th>Total Gross</th> <th>Number of Movies</th> <th>Average per Movie</th> <th>#1 Movie</th> <th>Gross</th>\n",
       "        </tr>\n",
       "    </thead>\n",
       "    <tbody>\n",
       "        <tr>\n",
       "            <td>Anthony Daniels</td> <td>3162.9     </td> <td>7               </td> <td>451.8            </td> <td>Star Wars: The Force Awakens</td> <td>936.7</td>\n",
       "        </tr>\n",
       "    </tbody>\n",
       "</table>"
      ],
      "text/plain": [
       "Actor           | Total Gross | Number of Movies | Average per Movie | #1 Movie                     | Gross\n",
       "Anthony Daniels | 3162.9      | 7                | 451.8             | Star Wars: The Force Awakens | 936.7"
      ]
     },
     "execution_count": 48,
     "metadata": {},
     "output_type": "execute_result"
    }
   ],
   "source": [
    "actors.where('Average per Movie', are.above(400))\n",
    "# all actors that have average movie profit above $400 million"
   ]
  },
  {
   "cell_type": "markdown",
   "metadata": {
    "colab_type": "text",
    "id": "CJA0s1RJUbuB"
   },
   "source": [
    "Line Graph"
   ]
  },
  {
   "cell_type": "code",
   "execution_count": 56,
   "metadata": {
    "colab": {},
    "colab_type": "code",
    "id": "eB59sEMBUbuC"
   },
   "outputs": [
    {
     "data": {
      "text/html": [
       "<table border=\"1\" class=\"dataframe\">\n",
       "    <thead>\n",
       "        <tr>\n",
       "            <th>Year</th> <th>Total Gross</th> <th>Number of Movies</th> <th>#1 Movie</th>\n",
       "        </tr>\n",
       "    </thead>\n",
       "    <tbody>\n",
       "        <tr>\n",
       "            <td>2015</td> <td>11128.5    </td> <td>702             </td> <td>Star Wars: The Force Awakens       </td>\n",
       "        </tr>\n",
       "        <tr>\n",
       "            <td>2014</td> <td>10360.8    </td> <td>702             </td> <td>American Sniper                    </td>\n",
       "        </tr>\n",
       "        <tr>\n",
       "            <td>2013</td> <td>10923.6    </td> <td>688             </td> <td>Catching Fire                      </td>\n",
       "        </tr>\n",
       "        <tr>\n",
       "            <td>2012</td> <td>10837.4    </td> <td>667             </td> <td>The Avengers                       </td>\n",
       "        </tr>\n",
       "        <tr>\n",
       "            <td>2011</td> <td>10174.3    </td> <td>602             </td> <td>Harry Potter / Deathly Hallows (P2)</td>\n",
       "        </tr>\n",
       "        <tr>\n",
       "            <td>2010</td> <td>10565.6    </td> <td>536             </td> <td>Toy Story 3                        </td>\n",
       "        </tr>\n",
       "        <tr>\n",
       "            <td>2009</td> <td>10595.5    </td> <td>521             </td> <td>Avatar                             </td>\n",
       "        </tr>\n",
       "        <tr>\n",
       "            <td>2008</td> <td>9630.7     </td> <td>608             </td> <td>The Dark Knight                    </td>\n",
       "        </tr>\n",
       "        <tr>\n",
       "            <td>2007</td> <td>9663.8     </td> <td>631             </td> <td>Spider-Man 3                       </td>\n",
       "        </tr>\n",
       "        <tr>\n",
       "            <td>2006</td> <td>9209.5     </td> <td>608             </td> <td>Dead Man's Chest                   </td>\n",
       "        </tr>\n",
       "    </tbody>\n",
       "</table>\n",
       "<p>... (26 rows omitted)</p>"
      ],
      "text/plain": [
       "Year | Total Gross | Number of Movies | #1 Movie\n",
       "2015 | 11128.5     | 702              | Star Wars: The Force Awakens\n",
       "2014 | 10360.8     | 702              | American Sniper\n",
       "2013 | 10923.6     | 688              | Catching Fire\n",
       "2012 | 10837.4     | 667              | The Avengers\n",
       "2011 | 10174.3     | 602              | Harry Potter / Deathly Hallows (P2)\n",
       "2010 | 10565.6     | 536              | Toy Story 3\n",
       "2009 | 10595.5     | 521              | Avatar\n",
       "2008 | 9630.7      | 608              | The Dark Knight\n",
       "2007 | 9663.8      | 631              | Spider-Man 3\n",
       "2006 | 9209.5      | 608              | Dead Man's Chest\n",
       "... (26 rows omitted)"
      ]
     },
     "execution_count": 56,
     "metadata": {},
     "output_type": "execute_result"
    }
   ],
   "source": [
    "movies_by_year = Table.read_table('movies_by_year.csv')\n",
    "movies_by_year\n",
    "# prints everything out in the csv file"
   ]
  },
  {
   "cell_type": "code",
   "execution_count": 57,
   "metadata": {},
   "outputs": [
    {
     "data": {
      "image/png": "[encoded data removed]",
      "text/plain": [
       "<Figure size 432x288 with 1 Axes>"
      ]
     },
     "metadata": {
      "needs_background": "light"
     },
     "output_type": "display_data"
    }
   ],
   "source": [
    "movies_by_year.plot('Year', 'Number of Movies')\n",
    "# line graph that plots the number of movies produced each year"
   ]
  },
  {
   "cell_type": "code",
   "execution_count": 66,
   "metadata": {
    "colab": {},
    "colab_type": "code",
    "id": "rUvo8LhBUbuS"
   },
   "outputs": [
    {
     "data": {
      "image/png": "[encoded data removed]",
      "text/plain": [
       "<Figure size 432x288 with 1 Axes>"
      ]
     },
     "metadata": {
      "needs_background": "light"
     },
     "output_type": "display_data"
    }
   ],
   "source": [
    "century_21.plot('Year', 'Total Gross')\n",
    "# line graph showing the total gross profits from the movies released in each year"
   ]
  },
  {
   "cell_type": "code",
   "execution_count": 200,
   "metadata": {},
   "outputs": [
    {
     "data": {
      "text/plain": [
       "'This film was among the highest grossing of the century.'"
      ]
     },
     "execution_count": 200,
     "metadata": {},
     "output_type": "execute_result"
    }
   ],
   "source": [
    "def highest_grossing(n):\n",
    "        if n >= 10800:\n",
    "            result = \"This film was among the highest grossing of the century.\"\n",
    "            return result\n",
    "        elif n < 10800 and n >= 9000:\n",
    "            result = \"This film was not among the highest grossing of the century, but it still was very successful.\"\n",
    "            return result\n",
    "        else:\n",
    "            result = \"This film did not perform as well.\"\n",
    "            return result\n",
    "# analysis of how well the movie did.\n",
    "highest_grossing(11128.5)"
   ]
  },
  {
   "cell_type": "code",
   "execution_count": 67,
   "metadata": {
    "colab": {},
    "colab_type": "code",
    "id": "ZXlfq0X6UbuX"
   },
   "outputs": [
    {
     "data": {
      "text/html": [
       "<table border=\"1\" class=\"dataframe\">\n",
       "    <thead>\n",
       "        <tr>\n",
       "            <th>Year</th> <th>Total Gross</th> <th>Number of Movies</th> <th>#1 Movie</th>\n",
       "        </tr>\n",
       "    </thead>\n",
       "    <tbody>\n",
       "        <tr>\n",
       "            <td>2009</td> <td>10595.5    </td> <td>521             </td> <td>Avatar  </td>\n",
       "        </tr>\n",
       "    </tbody>\n",
       "</table>"
      ],
      "text/plain": [
       "Year | Total Gross | Number of Movies | #1 Movie\n",
       "2009 | 10595.5     | 521              | Avatar"
      ]
     },
     "execution_count": 67,
     "metadata": {},
     "output_type": "execute_result"
    }
   ],
   "source": [
    "century_21.where('Year', are.equal_to(2009))\n",
    "# all the movies released in 2009"
   ]
  },
  {
   "cell_type": "markdown",
   "metadata": {
    "colab_type": "text",
    "id": "KYQNKPybUbua"
   },
   "source": [
    "Bar Chart"
   ]
  },
  {
   "cell_type": "code",
   "execution_count": 73,
   "metadata": {
    "colab": {},
    "colab_type": "code",
    "id": "xgigO0NBUbub"
   },
   "outputs": [
    {
     "data": {
      "text/html": [
       "<table border=\"1\" class=\"dataframe\">\n",
       "    <thead>\n",
       "        <tr>\n",
       "            <th>Title</th> <th>Studio</th> <th>Gross</th> <th>Gross (Adjusted)</th> <th>Year</th>\n",
       "        </tr>\n",
       "    </thead>\n",
       "    <tbody>\n",
       "        <tr>\n",
       "            <td>Gone with the Wind              </td> <td>MGM            </td> <td>198676459</td> <td>1796176700      </td> <td>1939</td>\n",
       "        </tr>\n",
       "        <tr>\n",
       "            <td>Star Wars                       </td> <td>Fox            </td> <td>460998007</td> <td>1583483200      </td> <td>1977</td>\n",
       "        </tr>\n",
       "        <tr>\n",
       "            <td>The Sound of Music              </td> <td>Fox            </td> <td>158671368</td> <td>1266072700      </td> <td>1965</td>\n",
       "        </tr>\n",
       "        <tr>\n",
       "            <td>E.T.: The Extra-Terrestrial     </td> <td>Universal      </td> <td>435110554</td> <td>1261085000      </td> <td>1982</td>\n",
       "        </tr>\n",
       "        <tr>\n",
       "            <td>Titanic                         </td> <td>Paramount      </td> <td>658672302</td> <td>1204368000      </td> <td>1997</td>\n",
       "        </tr>\n",
       "        <tr>\n",
       "            <td>The Ten Commandments            </td> <td>Paramount      </td> <td>65500000 </td> <td>1164590000      </td> <td>1956</td>\n",
       "        </tr>\n",
       "        <tr>\n",
       "            <td>Jaws                            </td> <td>Universal      </td> <td>260000000</td> <td>1138620700      </td> <td>1975</td>\n",
       "        </tr>\n",
       "        <tr>\n",
       "            <td>Doctor Zhivago                  </td> <td>MGM            </td> <td>111721910</td> <td>1103564200      </td> <td>1965</td>\n",
       "        </tr>\n",
       "        <tr>\n",
       "            <td>The Exorcist                    </td> <td>Warner Brothers</td> <td>232906145</td> <td>983226600       </td> <td>1973</td>\n",
       "        </tr>\n",
       "        <tr>\n",
       "            <td>Snow White and the Seven Dwarves</td> <td>Disney         </td> <td>184925486</td> <td>969010000       </td> <td>1937</td>\n",
       "        </tr>\n",
       "    </tbody>\n",
       "</table>\n",
       "<p>... (190 rows omitted)</p>"
      ],
      "text/plain": [
       "Title                            | Studio          | Gross     | Gross (Adjusted) | Year\n",
       "Gone with the Wind               | MGM             | 198676459 | 1796176700       | 1939\n",
       "Star Wars                        | Fox             | 460998007 | 1583483200       | 1977\n",
       "The Sound of Music               | Fox             | 158671368 | 1266072700       | 1965\n",
       "E.T.: The Extra-Terrestrial      | Universal       | 435110554 | 1261085000       | 1982\n",
       "Titanic                          | Paramount       | 658672302 | 1204368000       | 1997\n",
       "The Ten Commandments             | Paramount       | 65500000  | 1164590000       | 1956\n",
       "Jaws                             | Universal       | 260000000 | 1138620700       | 1975\n",
       "Doctor Zhivago                   | MGM             | 111721910 | 1103564200       | 1965\n",
       "The Exorcist                     | Warner Brothers | 232906145 | 983226600        | 1973\n",
       "Snow White and the Seven Dwarves | Disney          | 184925486 | 969010000        | 1937\n",
       "... (190 rows omitted)"
      ]
     },
     "execution_count": 73,
     "metadata": {},
     "output_type": "execute_result"
    }
   ],
   "source": [
    "top = Table.read_table('top_movies_2017.csv')\n",
    "top\n",
    "# prints everything in the csv file"
   ]
  },
  {
   "cell_type": "code",
   "execution_count": 77,
   "metadata": {
    "colab": {},
    "colab_type": "code",
    "id": "E0RjIVO5Ubul"
   },
   "outputs": [
    {
     "data": {
      "text/html": [
       "<table border=\"1\" class=\"dataframe\">\n",
       "    <thead>\n",
       "        <tr>\n",
       "            <th>Studio</th> <th>count</th>\n",
       "        </tr>\n",
       "    </thead>\n",
       "    <tbody>\n",
       "        <tr>\n",
       "            <td>AVCO       </td> <td>1    </td>\n",
       "        </tr>\n",
       "        <tr>\n",
       "            <td>Buena Vista</td> <td>35   </td>\n",
       "        </tr>\n",
       "        <tr>\n",
       "            <td>Columbia   </td> <td>9    </td>\n",
       "        </tr>\n",
       "        <tr>\n",
       "            <td>Disney     </td> <td>11   </td>\n",
       "        </tr>\n",
       "        <tr>\n",
       "            <td>Dreamworks </td> <td>3    </td>\n",
       "        </tr>\n",
       "        <tr>\n",
       "            <td>Fox        </td> <td>24   </td>\n",
       "        </tr>\n",
       "        <tr>\n",
       "            <td>IFC        </td> <td>1    </td>\n",
       "        </tr>\n",
       "        <tr>\n",
       "            <td>Lionsgate  </td> <td>3    </td>\n",
       "        </tr>\n",
       "        <tr>\n",
       "            <td>MGM        </td> <td>7    </td>\n",
       "        </tr>\n",
       "        <tr>\n",
       "            <td>Metro      </td> <td>1    </td>\n",
       "        </tr>\n",
       "    </tbody>\n",
       "</table>\n",
       "<p>... (13 rows omitted)</p>"
      ],
      "text/plain": [
       "Studio      | count\n",
       "AVCO        | 1\n",
       "Buena Vista | 35\n",
       "Columbia    | 9\n",
       "Disney      | 11\n",
       "Dreamworks  | 3\n",
       "Fox         | 24\n",
       "IFC         | 1\n",
       "Lionsgate   | 3\n",
       "MGM         | 7\n",
       "Metro       | 1\n",
       "... (13 rows omitted)"
      ]
     },
     "execution_count": 77,
     "metadata": {},
     "output_type": "execute_result"
    }
   ],
   "source": [
    "movies_and_studios.group('Studio')\n",
    "# shows the numbers of movies each stuidio produced"
   ]
  },
  {
   "cell_type": "code",
   "execution_count": 203,
   "metadata": {},
   "outputs": [
    {
     "name": "stdout",
     "output_type": "stream",
     "text": [
      "1\n",
      "1\n",
      "1\n",
      "1\n",
      "1\n",
      "1\n",
      "1\n",
      "2\n",
      "3\n",
      "3\n",
      "3\n",
      "4\n",
      "4\n",
      "5\n",
      "6\n",
      "7\n",
      "9\n",
      "11\n",
      "23\n",
      "24\n",
      "25\n",
      "29\n",
      "35\n",
      "Mean / Average is: 9.0\n",
      "Median is: 4\n",
      "Mode is : 1\n"
     ]
    }
   ],
   "source": [
    "Group_studio = movies_and_studios.group('Studio').sort('count', descending=False)\n",
    "\n",
    "for x in Group_studio['count']:\n",
    "  print(x)\n",
    "# prints all the numerical values, the number of movies from each studio\n",
    "\n",
    "n = len(Group_studio['count'])\n",
    "get_sum = sum(Group_studio['count']) \n",
    "mean = round(get_sum / n)\n",
    "print(\"Mean / Average is: \" + str(mean))\n",
    "# gets the mean\n",
    "  \n",
    "if n % 2 == 0: \n",
    "    median1 = Group_studio['count'][n//2] \n",
    "    median2 = Group_studio['count'][n//2 - 1] \n",
    "    median = (median1 + median2)/2\n",
    "else: \n",
    "    median = Group_studio['count'][n//2] \n",
    "print(\"Median is: \" + str(median)) \n",
    "# gets the median \n",
    "\n",
    "\n",
    "  \n",
    "data = Counter(Group_studio['count']) \n",
    "get_mode = dict(data) \n",
    "mode = [k for k, v in get_mode.items() if v == max(list(data.values()))] \n",
    "  \n",
    "if len(mode) == len(Group_studio['count']): \n",
    "    get_mode = \"No mode found\"\n",
    "else: \n",
    "    get_mode = \"Mode is : \" + ', '.join(map(str, mode)) \n",
    "print(get_mode) \n",
    "# gets median"
   ]
  },
  {
   "cell_type": "code",
   "execution_count": 78,
   "metadata": {
    "colab": {},
    "colab_type": "code",
    "id": "CdmMGKOVUbup"
   },
   "outputs": [
    {
     "data": {
      "image/png": "[encoded data removed]",
      "text/plain": [
       "<Figure size 432x828 with 1 Axes>"
      ]
     },
     "metadata": {
      "needs_background": "light"
     },
     "output_type": "display_data"
    }
   ],
   "source": [
    "studio_distribution = movies_and_studios.group('Studio')\n",
    "studio_distribution.sort('count', descending=True).barh('Studio')\n",
    "# a bar chart of the number of movies released by each studio"
   ]
  },
  {
   "cell_type": "code",
   "execution_count": 79,
   "metadata": {
    "colab": {},
    "colab_type": "code",
    "id": "QE1eBeixUbuv"
   },
   "outputs": [
    {
     "data": {
      "image/png": "[encoded data removed]",
      "text/plain": [
       "<Figure size 432x2592 with 1 Axes>"
      ]
     },
     "metadata": {
      "needs_background": "light"
     },
     "output_type": "display_data"
    }
   ],
   "source": [
    "movies_and_years = top.select('Title', 'Year')\n",
    "movies_and_years.group('Year').sort('count', descending=True).barh('Year')\n",
    "#a bar chart of the number of movies released each year"
   ]
  },
  {
   "cell_type": "markdown",
   "metadata": {
    "colab_type": "text",
    "id": "3Z5mf648Ubu2"
   },
   "source": [
    "Binning"
   ]
  },
  {
   "cell_type": "code",
   "execution_count": 204,
   "metadata": {
    "colab": {},
    "colab_type": "code",
    "id": "Fotbwc-DUbu5"
   },
   "outputs": [
    {
     "data": {
      "text/html": [
       "<table border=\"1\" class=\"dataframe\">\n",
       "    <thead>\n",
       "        <tr>\n",
       "            <th>Title</th> <th>Studio</th> <th>Gross</th> <th>Gross (Adjusted)</th> <th>Year</th> <th>Age</th>\n",
       "        </tr>\n",
       "    </thead>\n",
       "    <tbody>\n",
       "        <tr>\n",
       "            <td>Gone with the Wind              </td> <td>MGM            </td> <td>198676459</td> <td>1796176700      </td> <td>1939</td> <td>79  </td>\n",
       "        </tr>\n",
       "        <tr>\n",
       "            <td>Star Wars                       </td> <td>Fox            </td> <td>460998007</td> <td>1583483200      </td> <td>1977</td> <td>41  </td>\n",
       "        </tr>\n",
       "        <tr>\n",
       "            <td>The Sound of Music              </td> <td>Fox            </td> <td>158671368</td> <td>1266072700      </td> <td>1965</td> <td>53  </td>\n",
       "        </tr>\n",
       "        <tr>\n",
       "            <td>E.T.: The Extra-Terrestrial     </td> <td>Universal      </td> <td>435110554</td> <td>1261085000      </td> <td>1982</td> <td>36  </td>\n",
       "        </tr>\n",
       "        <tr>\n",
       "            <td>Titanic                         </td> <td>Paramount      </td> <td>658672302</td> <td>1204368000      </td> <td>1997</td> <td>21  </td>\n",
       "        </tr>\n",
       "        <tr>\n",
       "            <td>The Ten Commandments            </td> <td>Paramount      </td> <td>65500000 </td> <td>1164590000      </td> <td>1956</td> <td>62  </td>\n",
       "        </tr>\n",
       "        <tr>\n",
       "            <td>Jaws                            </td> <td>Universal      </td> <td>260000000</td> <td>1138620700      </td> <td>1975</td> <td>43  </td>\n",
       "        </tr>\n",
       "        <tr>\n",
       "            <td>Doctor Zhivago                  </td> <td>MGM            </td> <td>111721910</td> <td>1103564200      </td> <td>1965</td> <td>53  </td>\n",
       "        </tr>\n",
       "        <tr>\n",
       "            <td>The Exorcist                    </td> <td>Warner Brothers</td> <td>232906145</td> <td>983226600       </td> <td>1973</td> <td>45  </td>\n",
       "        </tr>\n",
       "        <tr>\n",
       "            <td>Snow White and the Seven Dwarves</td> <td>Disney         </td> <td>184925486</td> <td>969010000       </td> <td>1937</td> <td>81  </td>\n",
       "        </tr>\n",
       "    </tbody>\n",
       "</table>\n",
       "<p>... (190 rows omitted)</p>"
      ],
      "text/plain": [
       "Title                            | Studio          | Gross     | Gross (Adjusted) | Year | Age\n",
       "Gone with the Wind               | MGM             | 198676459 | 1796176700       | 1939 | 79\n",
       "Star Wars                        | Fox             | 460998007 | 1583483200       | 1977 | 41\n",
       "The Sound of Music               | Fox             | 158671368 | 1266072700       | 1965 | 53\n",
       "E.T.: The Extra-Terrestrial      | Universal       | 435110554 | 1261085000       | 1982 | 36\n",
       "Titanic                          | Paramount       | 658672302 | 1204368000       | 1997 | 21\n",
       "The Ten Commandments             | Paramount       | 65500000  | 1164590000       | 1956 | 62\n",
       "Jaws                             | Universal       | 260000000 | 1138620700       | 1975 | 43\n",
       "Doctor Zhivago                   | MGM             | 111721910 | 1103564200       | 1965 | 53\n",
       "The Exorcist                     | Warner Brothers | 232906145 | 983226600        | 1973 | 45\n",
       "Snow White and the Seven Dwarves | Disney          | 184925486 | 969010000        | 1937 | 81\n",
       "... (190 rows omitted)"
      ]
     },
     "execution_count": 204,
     "metadata": {},
     "output_type": "execute_result"
    }
   ],
   "source": [
    "ages = 2018 - top.column('Year')\n",
    "top = top.with_column('Age', ages)\n",
    "top\n",
    "# organizes oldest to latest year, prints cvs file "
   ]
  },
  {
   "cell_type": "code",
   "execution_count": 82,
   "metadata": {
    "colab": {},
    "colab_type": "code",
    "id": "i7diIgkuUbvC"
   },
   "outputs": [
    {
     "data": {
      "text/plain": [
       "[1, 97]"
      ]
     },
     "execution_count": 82,
     "metadata": {},
     "output_type": "execute_result"
    }
   ],
   "source": [
    "[min(ages), max(ages)]\n",
    "# range of ages"
   ]
  },
  {
   "cell_type": "code",
   "execution_count": 83,
   "metadata": {
    "colab": {},
    "colab_type": "code",
    "id": "wp_nbkSxUbvF"
   },
   "outputs": [],
   "source": [
    "my_bins = make_array(0, 5, 10, 15, 25, 40, 65, 100)\n",
    "#creates the array with some integers"
   ]
  },
  {
   "cell_type": "code",
   "execution_count": 84,
   "metadata": {
    "colab": {},
    "colab_type": "code",
    "id": "_d_yJAi1UbvH",
    "scrolled": true
   },
   "outputs": [
    {
     "data": {
      "text/html": [
       "<table border=\"1\" class=\"dataframe\">\n",
       "    <thead>\n",
       "        <tr>\n",
       "            <th>bin</th> <th>Age count</th>\n",
       "        </tr>\n",
       "    </thead>\n",
       "    <tbody>\n",
       "        <tr>\n",
       "            <td>0   </td> <td>21       </td>\n",
       "        </tr>\n",
       "        <tr>\n",
       "            <td>5   </td> <td>17       </td>\n",
       "        </tr>\n",
       "        <tr>\n",
       "            <td>10  </td> <td>18       </td>\n",
       "        </tr>\n",
       "        <tr>\n",
       "            <td>15  </td> <td>37       </td>\n",
       "        </tr>\n",
       "        <tr>\n",
       "            <td>25  </td> <td>40       </td>\n",
       "        </tr>\n",
       "        <tr>\n",
       "            <td>40  </td> <td>52       </td>\n",
       "        </tr>\n",
       "        <tr>\n",
       "            <td>65  </td> <td>15       </td>\n",
       "        </tr>\n",
       "        <tr>\n",
       "            <td>100 </td> <td>0        </td>\n",
       "        </tr>\n",
       "    </tbody>\n",
       "</table>"
      ],
      "text/plain": [
       "bin  | Age count\n",
       "0    | 21\n",
       "5    | 17\n",
       "10   | 18\n",
       "15   | 37\n",
       "25   | 40\n",
       "40   | 52\n",
       "65   | 15\n",
       "100  | 0"
      ]
     },
     "execution_count": 84,
     "metadata": {},
     "output_type": "execute_result"
    }
   ],
   "source": [
    "top.bin('Age', bins = my_bins)\n",
    "# organizes in a table"
   ]
  },
  {
   "cell_type": "code",
   "execution_count": 86,
   "metadata": {
    "colab": {},
    "colab_type": "code",
    "id": "FEicyoukUbvQ"
   },
   "outputs": [
    {
     "data": {
      "text/plain": [
       "200"
      ]
     },
     "execution_count": 86,
     "metadata": {},
     "output_type": "execute_result"
    }
   ],
   "source": [
    "sum(top.bin('Age', bins = my_bins).column(1))\n",
    "# adds up all the values in Age Count column"
   ]
  },
  {
   "cell_type": "code",
   "execution_count": 87,
   "metadata": {
    "colab": {},
    "colab_type": "code",
    "id": "M1G12b-YUbvT",
    "scrolled": true
   },
   "outputs": [
    {
     "data": {
      "text/html": [
       "<table border=\"1\" class=\"dataframe\">\n",
       "    <thead>\n",
       "        <tr>\n",
       "            <th>bin</th> <th>Age count</th>\n",
       "        </tr>\n",
       "    </thead>\n",
       "    <tbody>\n",
       "        <tr>\n",
       "            <td>0   </td> <td>93       </td>\n",
       "        </tr>\n",
       "        <tr>\n",
       "            <td>25  </td> <td>66       </td>\n",
       "        </tr>\n",
       "        <tr>\n",
       "            <td>50  </td> <td>34       </td>\n",
       "        </tr>\n",
       "        <tr>\n",
       "            <td>75  </td> <td>7        </td>\n",
       "        </tr>\n",
       "        <tr>\n",
       "            <td>100 </td> <td>0        </td>\n",
       "        </tr>\n",
       "    </tbody>\n",
       "</table>"
      ],
      "text/plain": [
       "bin  | Age count\n",
       "0    | 93\n",
       "25   | 66\n",
       "50   | 34\n",
       "75   | 7\n",
       "100  | 0"
      ]
     },
     "execution_count": 87,
     "metadata": {},
     "output_type": "execute_result"
    }
   ],
   "source": [
    "top.bin('Age', bins = np.arange(0, 101, 25))"
   ]
  },
  {
   "cell_type": "code",
   "execution_count": 88,
   "metadata": {
    "colab": {},
    "colab_type": "code",
    "id": "-Mt_rmEbUbvV"
   },
   "outputs": [
    {
     "data": {
      "text/html": [
       "<table border=\"1\" class=\"dataframe\">\n",
       "    <thead>\n",
       "        <tr>\n",
       "            <th>bin</th> <th>Age count</th>\n",
       "        </tr>\n",
       "    </thead>\n",
       "    <tbody>\n",
       "        <tr>\n",
       "            <td>0   </td> <td>93       </td>\n",
       "        </tr>\n",
       "        <tr>\n",
       "            <td>25  </td> <td>68       </td>\n",
       "        </tr>\n",
       "        <tr>\n",
       "            <td>50  </td> <td>0        </td>\n",
       "        </tr>\n",
       "    </tbody>\n",
       "</table>"
      ],
      "text/plain": [
       "bin  | Age count\n",
       "0    | 93\n",
       "25   | 68\n",
       "50   | 0"
      ]
     },
     "execution_count": 88,
     "metadata": {},
     "output_type": "execute_result"
    }
   ],
   "source": [
    "top.bin('Age', bins = np.arange(0, 60, 25))"
   ]
  },
  {
   "cell_type": "code",
   "execution_count": 89,
   "metadata": {
    "colab": {},
    "colab_type": "code",
    "id": "gVSiUO5PUbvY"
   },
   "outputs": [
    {
     "data": {
      "text/html": [
       "<table border=\"1\" class=\"dataframe\">\n",
       "    <thead>\n",
       "        <tr>\n",
       "            <th>Title</th> <th>Studio</th> <th>Gross</th> <th>Gross (Adjusted)</th> <th>Year</th> <th>Age</th>\n",
       "        </tr>\n",
       "    </thead>\n",
       "    <tbody>\n",
       "        <tr>\n",
       "            <td>2001: A Space Odyssey</td> <td>MGM     </td> <td>56954992</td> <td>385261600       </td> <td>1968</td> <td>50  </td>\n",
       "        </tr>\n",
       "        <tr>\n",
       "            <td>Funny Girl           </td> <td>Columbia</td> <td>52223306</td> <td>355950700       </td> <td>1968</td> <td>50  </td>\n",
       "        </tr>\n",
       "    </tbody>\n",
       "</table>"
      ],
      "text/plain": [
       "Title                 | Studio   | Gross    | Gross (Adjusted) | Year | Age\n",
       "2001: A Space Odyssey | MGM      | 56954992 | 385261600        | 1968 | 50\n",
       "Funny Girl            | Columbia | 52223306 | 355950700        | 1968 | 50"
      ]
     },
     "execution_count": 89,
     "metadata": {},
     "output_type": "execute_result"
    }
   ],
   "source": [
    "top.where('Age', 50)"
   ]
  },
  {
   "cell_type": "markdown",
   "metadata": {
    "colab_type": "text",
    "id": "UpLyAY1AUbve"
   },
   "source": [
    "Histograms"
   ]
  },
  {
   "cell_type": "code",
   "execution_count": 0,
   "metadata": {
    "colab": {},
    "colab_type": "code",
    "id": "BnCyzRK9Ubvf"
   },
   "outputs": [],
   "source": [
    "my_bins"
   ]
  },
  {
   "cell_type": "code",
   "execution_count": 90,
   "metadata": {
    "colab": {},
    "colab_type": "code",
    "id": "6TspdjD7Ubvk"
   },
   "outputs": [
    {
     "data": {
      "text/html": [
       "<table border=\"1\" class=\"dataframe\">\n",
       "    <thead>\n",
       "        <tr>\n",
       "            <th>bin</th> <th>Age count</th>\n",
       "        </tr>\n",
       "    </thead>\n",
       "    <tbody>\n",
       "        <tr>\n",
       "            <td>0   </td> <td>21       </td>\n",
       "        </tr>\n",
       "        <tr>\n",
       "            <td>5   </td> <td>17       </td>\n",
       "        </tr>\n",
       "        <tr>\n",
       "            <td>10  </td> <td>18       </td>\n",
       "        </tr>\n",
       "        <tr>\n",
       "            <td>15  </td> <td>37       </td>\n",
       "        </tr>\n",
       "        <tr>\n",
       "            <td>25  </td> <td>40       </td>\n",
       "        </tr>\n",
       "        <tr>\n",
       "            <td>40  </td> <td>52       </td>\n",
       "        </tr>\n",
       "        <tr>\n",
       "            <td>65  </td> <td>15       </td>\n",
       "        </tr>\n",
       "        <tr>\n",
       "            <td>100 </td> <td>0        </td>\n",
       "        </tr>\n",
       "    </tbody>\n",
       "</table>"
      ],
      "text/plain": [
       "bin  | Age count\n",
       "0    | 21\n",
       "5    | 17\n",
       "10   | 18\n",
       "15   | 37\n",
       "25   | 40\n",
       "40   | 52\n",
       "65   | 15\n",
       "100  | 0"
      ]
     },
     "execution_count": 90,
     "metadata": {},
     "output_type": "execute_result"
    }
   ],
   "source": [
    "top.bin('Age', bins = my_bins)"
   ]
  },
  {
   "cell_type": "code",
   "execution_count": 91,
   "metadata": {
    "colab": {},
    "colab_type": "code",
    "id": "wQ2cyqyNUbvo"
   },
   "outputs": [
    {
     "data": {
      "image/png": "[encoded data removed]",
      "text/plain": [
       "<Figure size 432x288 with 1 Axes>"
      ]
     },
     "metadata": {
      "needs_background": "light"
     },
     "output_type": "display_data"
    }
   ],
   "source": [
    "top.hist('Age', bins = my_bins, unit = 'Year')"
   ]
  },
  {
   "cell_type": "code",
   "execution_count": 95,
   "metadata": {
    "colab": {},
    "colab_type": "code",
    "id": "zKVVjhDhUbvv"
   },
   "outputs": [
    {
     "data": {
      "image/png": "[encoded data removed]",
      "text/plain": [
       "<Figure size 432x288 with 1 Axes>"
      ]
     },
     "metadata": {
      "needs_background": "light"
     },
     "output_type": "display_data"
    }
   ],
   "source": [
    "top.hist('Age', bins = np.arange(0, 110, 10), unit = 'Year')"
   ]
  },
  {
   "cell_type": "code",
   "execution_count": 96,
   "metadata": {
    "colab": {},
    "colab_type": "code",
    "id": "AHFSeZTrUbvz"
   },
   "outputs": [
    {
     "data": {
      "image/png": "[encoded data removed]",
      "text/plain": [
       "<Figure size 432x288 with 1 Axes>"
      ]
     },
     "metadata": {
      "needs_background": "light"
     },
     "output_type": "display_data"
    }
   ],
   "source": [
    "top.hist('Age', unit='Year')"
   ]
  },
  {
   "cell_type": "code",
   "execution_count": 97,
   "metadata": {
    "colab": {},
    "colab_type": "code",
    "id": "lj9ccvbxUbv3"
   },
   "outputs": [
    {
     "data": {
      "image/png": "[encoded data removed]",
      "text/plain": [
       "<Figure size 432x288 with 1 Axes>"
      ]
     },
     "metadata": {
      "needs_background": "light"
     },
     "output_type": "display_data"
    }
   ],
   "source": [
    "top.hist('Age', bins = my_bins, unit = 'Year')"
   ]
  },
  {
   "cell_type": "code",
   "execution_count": 98,
   "metadata": {
    "colab": {},
    "colab_type": "code",
    "id": "2XJy4DfRUbv7"
   },
   "outputs": [],
   "source": [
    "distribution = top.bin('Age', bins = my_bins)"
   ]
  },
  {
   "cell_type": "code",
   "execution_count": 100,
   "metadata": {
    "colab": {},
    "colab_type": "code",
    "id": "ugeMY-_aUbv_"
   },
   "outputs": [
    {
     "data": {
      "text/html": [
       "<table border=\"1\" class=\"dataframe\">\n",
       "    <thead>\n",
       "        <tr>\n",
       "            <th>bin</th> <th>Age count</th>\n",
       "        </tr>\n",
       "    </thead>\n",
       "    <tbody>\n",
       "        <tr>\n",
       "            <td>0   </td> <td>21       </td>\n",
       "        </tr>\n",
       "        <tr>\n",
       "            <td>5   </td> <td>17       </td>\n",
       "        </tr>\n",
       "        <tr>\n",
       "            <td>10  </td> <td>18       </td>\n",
       "        </tr>\n",
       "        <tr>\n",
       "            <td>15  </td> <td>37       </td>\n",
       "        </tr>\n",
       "        <tr>\n",
       "            <td>25  </td> <td>40       </td>\n",
       "        </tr>\n",
       "        <tr>\n",
       "            <td>40  </td> <td>52       </td>\n",
       "        </tr>\n",
       "        <tr>\n",
       "            <td>65  </td> <td>15       </td>\n",
       "        </tr>\n",
       "        <tr>\n",
       "            <td>100 </td> <td>0        </td>\n",
       "        </tr>\n",
       "    </tbody>\n",
       "</table>"
      ],
      "text/plain": [
       "bin  | Age count\n",
       "0    | 21\n",
       "5    | 17\n",
       "10   | 18\n",
       "15   | 37\n",
       "25   | 40\n",
       "40   | 52\n",
       "65   | 15\n",
       "100  | 0"
      ]
     },
     "execution_count": 100,
     "metadata": {},
     "output_type": "execute_result"
    }
   ],
   "source": [
    "distribution"
   ]
  }
 ],
 "metadata": {
  "colab": {
   "name": "Lesson 3 Visualization Empty.ipynb",
   "provenance": []
  },
  "kernelspec": {
   "display_name": "Python 3",
   "language": "python",
   "name": "python3"
  },
  "language_info": {
   "codemirror_mode": {
    "name": "ipython",
    "version": 3
   },
   "file_extension": ".py",
   "mimetype": "text/x-python",
   "name": "python",
   "nbconvert_exporter": "python",
   "pygments_lexer": "ipython3",
   "version": "3.7.4"
  }
 },
 "nbformat": 4,
 "nbformat_minor": 1
}
